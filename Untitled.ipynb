{
 "cells": [
  {
   "cell_type": "code",
   "execution_count": null,
   "id": "c818f113",
   "metadata": {},
   "outputs": [
    {
     "name": "stdout",
     "output_type": "stream",
     "text": [
      "======== DEPLOY SUMMARY ========\n",
      "domain:         BeijingAirExtrap\n",
      "method:         Neural_time\n",
      "max epochs:     10\n",
      "rank:           8\n",
      "device:         cuda:0\n",
      "fold:           0\n",
      "batch size:     100\n",
      "test interval:  1\n",
      "--------------------------------\n",
      "=================================\n",
      "* Neural Init Config\n",
      "---------------------------------\n",
      "- domain : BeijingAirExtrap\n",
      "- device : cuda:0\n",
      "- fold : 0\n",
      "- trans : time\n",
      "- batch_size : 100\n",
      "- max_epochs : 10\n",
      "- test_interval : 1\n",
      "- learning_rate : 0.001\n",
      "- R : 8\n",
      "- nFF : 51\n",
      "- verbose : False\n",
      "=================================\n",
      "Directory '__res__/BeijingAirExtrap/Neural_time/rank8/fold0' created successfully\n",
      "Directory '__log__/BeijingAirExtrap/Neural_time/rank8/fold0' created successfully\n",
      "\u001b[34m@@@@@@@@@@  Neural Time is being trained @@@@@@@@@@\u001b[0m\n",
      " 20%|████████▊                                   | 2/10 [01:42<06:47, 50.98s/it]"
     ]
    }
   ],
   "source": [
    "!bash run.sh BeijingAirExtrap Neural_time 10 8 cuda:0 0 100 1 \n"
   ]
  },
  {
   "cell_type": "code",
   "execution_count": null,
   "id": "86b83308",
   "metadata": {},
   "outputs": [],
   "source": []
  }
 ],
 "metadata": {
  "kernelspec": {
   "display_name": "Python 3 (ipykernel)",
   "language": "python",
   "name": "python3"
  },
  "language_info": {
   "codemirror_mode": {
    "name": "ipython",
    "version": 3
   },
   "file_extension": ".py",
   "mimetype": "text/x-python",
   "name": "python",
   "nbconvert_exporter": "python",
   "pygments_lexer": "ipython3",
   "version": "3.7.13"
  }
 },
 "nbformat": 4,
 "nbformat_minor": 5
}
