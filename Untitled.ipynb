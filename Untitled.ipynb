{
 "cells": [
  {
   "cell_type": "code",
   "execution_count": 1,
   "id": "c818f113",
   "metadata": {},
   "outputs": [
    {
     "name": "stdout",
     "output_type": "stream",
     "text": [
      "======== DEPLOY SUMMARY ========\n",
      "domain:         BeijingAirExtrap\n",
      "method:         Neural_time\n",
      "max epochs:     10\n",
      "rank:           8\n",
      "device:         cuda:0\n",
      "fold:           0\n",
      "batch size:     100\n",
      "test interval:  1\n",
      "--------------------------------\n",
      "=================================\n",
      "* Neural Init Config\n",
      "---------------------------------\n",
      "- domain : BeijingAirExtrap\n",
      "- device : cuda:0\n",
      "- fold : 0\n",
      "- trans : time\n",
      "- batch_size : 100\n",
      "- max_epochs : 10\n",
      "- test_interval : 1\n",
      "- learning_rate : 0.001\n",
      "- R : 8\n",
      "- nFF : 51\n",
      "- verbose : False\n",
      "=================================\n",
      "Directory '__res__/BeijingAirExtrap/Neural_time/rank8/fold0' created successfully\n",
      "Directory '__log__/BeijingAirExtrap/Neural_time/rank8/fold0' created successfully\n",
      "\u001b[34m@@@@@@@@@@  Neural Time is being trained @@@@@@@@@@\u001b[0m\n",
      " 20%|████████▊                                   | 2/10 [02:21<09:25, 70.67s/it]\n",
      "Traceback (most recent call last):\n",
      "  File \"run_Neural.py\", line 129, in <module>\n",
      "    fire.Fire(evaluation)\n",
      "  File \"/opt/conda/lib/python3.7/site-packages/fire/core.py\", line 141, in Fire\n",
      "    component_trace = _Fire(component, args, parsed_flag_args, context, name)\n",
      "  File \"/opt/conda/lib/python3.7/site-packages/fire/core.py\", line 471, in _Fire\n",
      "    target=component.__name__)\n",
      "  File \"/opt/conda/lib/python3.7/site-packages/fire/core.py\", line 681, in _CallAndUpdateTrace\n",
      "    component = fn(*varargs, **kwargs)\n",
      "  File \"run_Neural.py\", line 125, in evaluation\n",
      "    model.train(dataset_train, dataset_test, max_epochs, learning_rate, perform_meters)\n",
      "  File \"/workspace/baselines/Neural_time.py\", line 177, in train\n",
      "    perform_meters.save()\n",
      "  File \"/workspace/infrastructure/misc.py\", line 138, in save\n",
      "    with open(os.path.join(self.save_path, 'error.pickle'), 'wb') as handle:\n",
      "FileNotFoundError: [Errno 2] No such file or directory: '__res__/BeijingAirExtrap/Neural_time/rank8/fold0/error.pickle'\n"
     ]
    }
   ],
   "source": [
    "!bash run.sh BeijingAirExtrap Neural_time 10 8 cuda:0 0 100 1 \n"
   ]
  },
  {
   "cell_type": "code",
   "execution_count": null,
   "id": "86b83308",
   "metadata": {},
   "outputs": [],
   "source": []
  }
 ],
 "metadata": {
  "kernelspec": {
   "display_name": "Python 3 (ipykernel)",
   "language": "python",
   "name": "python3"
  },
  "language_info": {
   "codemirror_mode": {
    "name": "ipython",
    "version": 3
   },
   "file_extension": ".py",
   "mimetype": "text/x-python",
   "name": "python",
   "nbconvert_exporter": "python",
   "pygments_lexer": "ipython3",
   "version": "3.7.13"
  }
 },
 "nbformat": 4,
 "nbformat_minor": 5
}
